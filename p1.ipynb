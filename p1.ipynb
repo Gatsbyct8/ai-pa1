{
 "cells": [
  {
   "cell_type": "code",
   "execution_count": 5,
   "metadata": {},
   "outputs": [],
   "source": [
    "import numpy as np\n",
    "import os, sys\n",
    "import numpy as np\n",
    "import pandas as pd\n",
    "import matplotlib.pyplot as plt"
   ]
  },
  {
   "cell_type": "code",
   "execution_count": 6,
   "metadata": {},
   "outputs": [],
   "source": [
    "train=pd.read_csv('D:/jupyter/LinearX.csv',index_col=False,header=None)\n",
    "train.columns=['X', 'Y']\n",
    "label=pd.read_csv('D:/jupyter/LinearY.csv',index_col=False,header=None)\n",
    "label.columns=['Label']\n",
    "full=pd.concat([train,label],axis=1)"
   ]
  },
  {
   "cell_type": "code",
   "execution_count": 41,
   "metadata": {
    "scrolled": true
   },
   "outputs": [],
   "source": [
    "c = np.vstack(([[2], [1]], [1]))"
   ]
  },
  {
   "cell_type": "code",
   "execution_count": 42,
   "metadata": {},
   "outputs": [
    {
     "data": {
      "text/plain": [
       "array([[2],\n",
       "       [1],\n",
       "       [1]])"
      ]
     },
     "execution_count": 42,
     "metadata": {},
     "output_type": "execute_result"
    }
   ],
   "source": [
    "c"
   ]
  },
  {
   "cell_type": "code",
   "execution_count": 4,
   "metadata": {},
   "outputs": [],
   "source": [
    "class NeuralNetwork:\n",
    "    def __init__(self, NNodes, activate, deltaActivate):\n",
    "        self.NNodes = NNodes # the number of nodes in the hidden layer\n",
    "        self.activate = activate # a function used to activate\n",
    "        self.deltaActivate = deltaActivate # the derivative of activate\n",
    "    "
   ]
  },
  {
   "cell_type": "code",
   "execution_count": 5,
   "metadata": {},
   "outputs": [],
   "source": [
    "    def fit(self, X, Y, learningRate, epochs, regLambda):\n",
    "        \"\"\"\n",
    "        This function is used to train the model.\n",
    "        Parameters\n",
    "        ----------\n",
    "        X : numpy matrix\n",
    "            The matrix containing sample features for training.\n",
    "        Y : numpy array\n",
    "            The array containing sample labels for training.\n",
    "        Returns\n",
    "        -------\n",
    "        None\n",
    "        \"\"\"\n",
    "        sampleNum = 500\n",
    "        #W1=np.random.randn(X.shape(0), NNnodes)\n",
    "        #W2=np.random.randn(NNodes, len(set(label.values.flatten())))\n",
    "        # Initialize your weight matrices first.\n",
    "        # (hint: check the sizes of your weight matrices first!)\n",
    "        \n",
    "        \n",
    "        # For each epoch, do\n",
    "        for i in range (len(epochs)):\n",
    "            # For each training sample (X[i], Y[i]), do\n",
    "            for j in range(sampleNum):\n",
    "                # 1. Forward propagate once. Use the function \"forward\" here!\n",
    "                    inputData = []\n",
    "                    inputData.append(X[i][0])\n",
    "                    inputData.append(X[i][1])\n",
    "                    inputData.append(1)\n",
    "                    inputData = np.array(inputData).T\n",
    "                    forward(self, inputData)\n",
    "                # 2. Backward progate once. Use the function \"backpropagate\" here!\n",
    "                    backpropagate(self)\n",
    "                \n",
    "        pass\n",
    "        "
   ]
  },
  {
   "cell_type": "code",
   "execution_count": 6,
   "metadata": {},
   "outputs": [],
   "source": [
    "    def predict(self, X):\n",
    "        \"\"\"\n",
    "        Predicts the labels for each sample in X.\n",
    "        Parameters\n",
    "        X : numpy matrix\n",
    "            The matrix containing sample features for testing.\n",
    "        Returns\n",
    "        -------\n",
    "        YPredict : numpy array\n",
    "            The predictions of X.\n",
    "        ----------\n",
    "        \"\"\"\n",
    "        return YPredict"
   ]
  },
  {
   "cell_type": "code",
   "execution_count": 50,
   "metadata": {},
   "outputs": [],
   "source": [
    "    def forward(self, X):\n",
    "        # Perform matrix multiplication and activation twice (one for each layer).\n",
    "        # (hint: add a bias term before multiplication)\n",
    "        self.dataInput = X                                              # 3 * 1  bias included\n",
    "        self.secondLayerInput = np.dot(self.W1, X)                      # n * 3   3 * 1  = n * 1\n",
    "        self.secondLayerOutput = activate(self.secondLayerInput)\n",
    "        # add bias \n",
    "        self.thirdLayerInput = np.dot(self.W2.T, np.row_stack((secondLayerOutput, [1])))   # 1 * n+1   n+1 * 1 = 1 * 1\n",
    "        self.YPredict = activate(self.thirdLayerInput)        \n",
    "        pass\n",
    " "
   ]
  },
  {
   "cell_type": "code",
   "execution_count": 62,
   "metadata": {},
   "outputs": [
    {
     "ename": "SyntaxError",
     "evalue": "invalid syntax (<ipython-input-62-eac9645279c3>, line 9)",
     "output_type": "error",
     "traceback": [
      "\u001b[1;36m  File \u001b[1;32m\"<ipython-input-62-eac9645279c3>\"\u001b[1;36m, line \u001b[1;32m9\u001b[0m\n\u001b[1;33m    derivativeW2 = temp * np.vstack((self.secondLayerOutput, [1]))                   # 1 * 1  n+1 * 1  = n+1 * 1 (inner product)\u001b[0m\n\u001b[1;37m               ^\u001b[0m\n\u001b[1;31mSyntaxError\u001b[0m\u001b[1;31m:\u001b[0m invalid syntax\n"
     ]
    }
   ],
   "source": [
    "    def backpropagate(self):\n",
    "        sampleNum = 500\n",
    "        # Compute loss / cost using the getCost function.\n",
    "        loss = getCost(self, YTrue, self.YPredict)  \n",
    "        # Compute gradient for each layer.\n",
    "        #inner product of matrix\n",
    "        temp = (-YTrue / self.YPredict) * (self.deltaActivate(self.thirdLayerInput)     # save for derivativeW1 1*1\n",
    "        #np.dot(([[2], [1]], [1]))\n",
    "        derivativeW2 = temp * np.vstack((self.secondLayerOutput, [1]))                   # 1 * 1  n+1 * 1  = n+1 * 1 (inner product)                       \n",
    "        temp2 = temp * np.delete(self.W2,sampleNum,0) * self.deltaActivate(self.secondLayerInput)              # n * 1  (inner product)\n",
    "        derivativeW1 = np.dot(temp2,self.dataInput.T)                                  # n * 1  1 * 3  = n * 3\n",
    "        self.W1 = self.W1 - self.learningRate * derivativeW1                           \n",
    "        self.W2 = self.W2 - self.learningRate * derivativeW2                           \n",
    "        pass"
   ]
  },
  {
   "cell_type": "code",
   "execution_count": 24,
   "metadata": {},
   "outputs": [],
   "source": [
    "    def getCost(self, YTrue, YPredict):      \n",
    "        # Compute loss / cost in terms of crossentropy.\n",
    "        J0 = -(YTrue * log(YPredict) + (1 - YTure) * log(1 - YPredict))\n",
    "        # calculate 1-norm of W1 and W2 then mutiply regLambda\n",
    "        J1 = self.regLambda * (np.linalg.norm(self.W1,ord=1) + np.linalg.norm(self.W2,ord=1)) \n",
    "        return J0 + J1\n",
    "        # (hint: your regularization term should appear here)\n",
    "        pass"
   ]
  },
  {
   "cell_type": "code",
   "execution_count": 10,
   "metadata": {},
   "outputs": [],
   "source": [
    "def getData(dataDir):\n",
    "    '''\n",
    "    Returns\n",
    "    -------\n",
    "    X : numpy matrix\n",
    "        Input data samples.\n",
    "    Y : numpy array\n",
    "        Input data labels.\n",
    "    '''\n",
    "    # TO-DO for this part:\n",
    "    # Use your preferred method to read the csv files.\n",
    "    # Write your codes here:\n",
    "    \n",
    "    \n",
    "    # Hint: use print(X.shape) to check if your results are valid.\n",
    "    return X, Y"
   ]
  },
  {
   "cell_type": "code",
   "execution_count": 11,
   "metadata": {},
   "outputs": [],
   "source": [
    "def splitData(X, Y, K = 5):\n",
    "    '''\n",
    "    Returns\n",
    "    -------\n",
    "    result : List[[train, test]]\n",
    "        \"train\" is a list of indices corresponding to the training samples in the data.\n",
    "        \"test\" is a list of indices corresponding to the testing samples in the data.\n",
    "        For example, if the first list in the result is [[0, 1, 2, 3], [4]], then the 4th\n",
    "        sample in the data is used for testing while the 0th, 1st, 2nd, and 3rd samples\n",
    "        are for training.\n",
    "    '''\n",
    "    \n",
    "    # Make sure you shuffle each train list.\n",
    "    pass"
   ]
  },
  {
   "cell_type": "code",
   "execution_count": 12,
   "metadata": {},
   "outputs": [],
   "source": [
    "def plotDecisionBoundary(model, X, Y):\n",
    "    \"\"\"\n",
    "    Plot the decision boundary given by model.\n",
    "    Parameters\n",
    "    ----------\n",
    "    model : model, whose parameters are used to plot the decision boundary.\n",
    "    X : input data\n",
    "    Y : input labels\n",
    "    \"\"\"\n",
    "    x1_array, x2_array = np.meshgrid(np.arange(-4, 4, 0.01), np.arange(-4, 4, 0.01))\n",
    "    grid_coordinates = np.c_[x1_array.ravel(), x2_array.ravel()]\n",
    "    Z = model.predict(grid_coordinates)\n",
    "    Z = Z.reshape(x1_array.shape)\n",
    "    plt.contourf(x1_array, x2_array, Z, cmap=plt.cm.bwr)\n",
    "    plt.scatter(X[:, 0], X[:, 1], c=y, cmap=plt.cm.bwr)\n",
    "    plt.show()"
   ]
  },
  {
   "cell_type": "code",
   "execution_count": 13,
   "metadata": {},
   "outputs": [],
   "source": [
    "def train(XTrain, YTrain, args):\n",
    "    \"\"\"\n",
    "    This function is used for the training phase.\n",
    "    Parameters\n",
    "    ----------\n",
    "    XTrain : numpy matrix\n",
    "        The matrix containing samples features (not indices) for training.\n",
    "    YTrain : numpy array\n",
    "        The array containing labels for training.\n",
    "    args : List\n",
    "        The list of parameters to set up the NN model.\n",
    "    Returns\n",
    "    -------\n",
    "    NN : NeuralNetwork object\n",
    "        This should be the trained NN object.\n",
    "    \"\"\"\n",
    "    # 1. Initializes a network object with given args.\n",
    "    \n",
    "    \n",
    "    # 2. Train the model with the function \"fit\".\n",
    "    # (hint: use the plotDecisionBoundary function to visualize after training)\n",
    "    \n",
    "    \n",
    "    # 3. Return the model.\n",
    "    \n",
    "    pass"
   ]
  },
  {
   "cell_type": "code",
   "execution_count": 14,
   "metadata": {},
   "outputs": [],
   "source": [
    "def test(XTest, model):\n",
    "    \"\"\"\n",
    "    This function is used for the testing phase.\n",
    "    Parameters\n",
    "    ----------\n",
    "    XTest : numpy matrix\n",
    "        The matrix containing samples features (not indices) for testing.\n",
    "    model : NeuralNetwork object\n",
    "        This should be a trained NN model.\n",
    "    Returns\n",
    "    -------\n",
    "    YPredict : numpy array\n",
    "        The predictions of X.\n",
    "    \"\"\"\n",
    "    pass"
   ]
  },
  {
   "cell_type": "code",
   "execution_count": 15,
   "metadata": {},
   "outputs": [],
   "source": [
    "def getConfusionMatrix(YTrue, YPredict):\n",
    "    \"\"\"\n",
    "    Computes the confusion matrix.\n",
    "    Parameters\n",
    "    ----------\n",
    "    YTrue : numpy array\n",
    "        This array contains the ground truth.\n",
    "    YPredict : numpy array\n",
    "        This array contains the predictions.\n",
    "    Returns\n",
    "    CM : numpy matrix\n",
    "        The confusion matrix.\n",
    "    \"\"\"\n",
    "    pass\n",
    " "
   ]
  },
  {
   "cell_type": "code",
   "execution_count": 16,
   "metadata": {},
   "outputs": [],
   "source": [
    "def getPerformanceScores(YTrue, YPredict):\n",
    "    \"\"\"\n",
    "    Computes the accuracy, precision, recall, f1 score.\n",
    "    Parameters\n",
    "    ----------\n",
    "    YTrue : numpy array\n",
    "        This array contains the ground truth.\n",
    "    YPredict : numpy array\n",
    "        This array contains the predictions.\n",
    "    Returns\n",
    "    {\"CM\" : numpy matrix,\n",
    "    \"accuracy\" : float,\n",
    "    \"precision\" : float,\n",
    "    \"recall\" : float,\n",
    "    \"f1\" : float}\n",
    "        This should be a dictionary.\n",
    "    \"\"\"\n",
    "    pass"
   ]
  }
 ],
 "metadata": {
  "kernelspec": {
   "display_name": "Python 3",
   "language": "python",
   "name": "python3"
  },
  "language_info": {
   "codemirror_mode": {
    "name": "ipython",
    "version": 3
   },
   "file_extension": ".py",
   "mimetype": "text/x-python",
   "name": "python",
   "nbconvert_exporter": "python",
   "pygments_lexer": "ipython3",
   "version": "3.7.1"
  }
 },
 "nbformat": 4,
 "nbformat_minor": 2
}
